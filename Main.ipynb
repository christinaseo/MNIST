{
 "cells": [
  {
   "cell_type": "markdown",
   "metadata": {},
   "source": [
    "# Using the MNIST Dataset to recognize digits"
   ]
  },
  {
   "cell_type": "code",
   "execution_count": 141,
   "metadata": {},
   "outputs": [],
   "source": [
    "import math\n",
    "import numpy as np\n",
    "import matplotlib.cm as cm\n",
    "import matplotlib.pyplot as plt\n",
    "import gzip\n",
    "import pickle"
   ]
  },
  {
   "cell_type": "code",
   "execution_count": 142,
   "metadata": {},
   "outputs": [
    {
     "data": {
      "image/png": "[encoded data removed]",
      "text/plain": [
       "<Figure size 432x288 with 1 Axes>"
      ]
     },
     "metadata": {},
     "output_type": "display_data"
    }
   ],
   "source": [
    "with gzip.open('mnist.pkl.gz', 'rb') as f:\n",
    "    train_set, valid_set, test_set = pickle.load(f, encoding='iso-8859-1')\n",
    "\n",
    "train_x, train_y = train_set\n",
    "\n",
    "plt.imshow(train_x[0].reshape((28, 28)), cmap=cm.Greys_r)\n",
    "plt.show()\n"
   ]
  },
  {
   "cell_type": "code",
   "execution_count": 143,
   "metadata": {},
   "outputs": [],
   "source": [
    "#input array\n",
    "x = []\n",
    "\n",
    "#expected output\n",
    "y = []\n",
    "\n",
    "#Learning rate\n",
    "lr = 0.1"
   ]
  },
  {
   "cell_type": "code",
   "execution_count": 148,
   "metadata": {},
   "outputs": [],
   "source": [
    "#create a neural network class\n",
    "class nn(object):\n",
    "    def __init__ (self):\n",
    "        self.inSize = 784\n",
    "        self.hiddenSize = 15\n",
    "        self.outSize = 10\n",
    "            \n",
    "        #randomly initialize the weights\n",
    "        self.ihW = np.random.rand(self.inSize, self.hiddenSize)\n",
    "        self.hBias = np.random.rand(1,self.hiddenSize)\n",
    "        self.hoW = np.random.rand(self.hiddenSize, self.outSize)\n",
    "        self.oBias = np.random.rand(1,self.outSize)\n",
    "        \n",
    "    def forwardprop(self, inp):\n",
    "        self.zt = np.dot(inp, self.ihW)\n",
    "        self.z = self.zt + self.hBias\n",
    "        self.z2 = self.sigmoid(self.z)\n",
    "        self.z3t = np.dot(self.z2, self.hoW)\n",
    "        self.z3 = self.z3t + self.oBias\n",
    "        final = self.sigmoid(self.z3)\n",
    "        return final\n",
    "    \n",
    "    def sigmoid(self,z):\n",
    "        return (1 / (1 + np.exp(-z)))\n",
    "    \n",
    "    def sigmoid_prime(self,z):\n",
    "        return z*(1-z)\n",
    "    \n",
    "    def backprop(self, diff, output, x):\n",
    "        self.delta = diff*self.sigmoid_prime(output)\n",
    "        self.zSquareError = np.dot(self.delta, self.hoW.T)\n",
    "        self.deltaZSquare = self.zSquareError*self.sigmoid_prime(self.z2)\n",
    "        self.ihW += x.T.dot(self.deltaZSquare)*lr\n",
    "        self.hoW += self.z2.T.dot(self.delta)*lr\n",
    "        self.hBias += np.sum(self.deltaZSquare, axis = 0, keepdims = True)*lr\n",
    "        self.oBias += np.sum(self.delta, axis = 0, keepdims = True)*lr\n",
    "\n"
   ]
  },
  {
   "cell_type": "code",
   "execution_count": 149,
   "metadata": {},
   "outputs": [],
   "source": [
    "def toProbs(i):\n",
    "    probabilities = np.zeros((10,1))\n",
    "    probabilities[i] = 1\n",
    "    return probabilities"
   ]
  },
  {
   "cell_type": "code",
   "execution_count": 150,
   "metadata": {},
   "outputs": [],
   "source": [
    "def guess(output):\n",
    "    return np.argmax(output)"
   ]
  },
  {
   "cell_type": "code",
   "execution_count": 151,
   "metadata": {},
   "outputs": [
    {
     "name": "stdout",
     "output_type": "stream",
     "text": [
      "[ 0. -5. -1. ...  3. -1.  3.]\n",
      "(50000,)\n"
     ]
    },
    {
     "ename": "ValueError",
     "evalue": "shapes (50000,) and (10,15) not aligned: 50000 (dim 0) != 10 (dim 0)",
     "output_type": "error",
     "traceback": [
      "\u001b[0;31m---------------------------------------------------------------------------\u001b[0m",
      "\u001b[0;31mValueError\u001b[0m                                Traceback (most recent call last)",
      "\u001b[0;32m<ipython-input-151-84e01a43d1e3>\u001b[0m in \u001b[0;36m<module>\u001b[0;34m()\u001b[0m\n\u001b[1;32m     13\u001b[0m     \u001b[0mprint\u001b[0m\u001b[0;34m(\u001b[0m\u001b[0mdifference\u001b[0m\u001b[0;34m)\u001b[0m\u001b[0;34m\u001b[0m\u001b[0m\n\u001b[1;32m     14\u001b[0m     \u001b[0;31m#difference = yProb - output\u001b[0m\u001b[0;34m\u001b[0m\u001b[0;34m\u001b[0m\u001b[0m\n\u001b[0;32m---> 15\u001b[0;31m     \u001b[0mNeuralNet\u001b[0m\u001b[0;34m.\u001b[0m\u001b[0mbackprop\u001b[0m\u001b[0;34m(\u001b[0m\u001b[0mdifference\u001b[0m\u001b[0;34m,\u001b[0m \u001b[0myhat\u001b[0m\u001b[0;34m,\u001b[0m \u001b[0mtrain_x\u001b[0m\u001b[0;34m)\u001b[0m\u001b[0;34m\u001b[0m\u001b[0m\n\u001b[0m\u001b[1;32m     16\u001b[0m     \u001b[0;31m#NeuralNet.backprop(difference, output, x)\u001b[0m\u001b[0;34m\u001b[0m\u001b[0;34m\u001b[0m\u001b[0m\n\u001b[1;32m     17\u001b[0m     \u001b[0mprint\u001b[0m\u001b[0;34m(\u001b[0m\u001b[0mi\u001b[0m\u001b[0;34m)\u001b[0m\u001b[0;34m\u001b[0m\u001b[0m\n",
      "\u001b[0;32m<ipython-input-148-724e667c4d72>\u001b[0m in \u001b[0;36mbackprop\u001b[0;34m(self, diff, output, x)\u001b[0m\n\u001b[1;32m     30\u001b[0m         \u001b[0mself\u001b[0m\u001b[0;34m.\u001b[0m\u001b[0mdelta\u001b[0m \u001b[0;34m=\u001b[0m \u001b[0mdiff\u001b[0m\u001b[0;34m*\u001b[0m\u001b[0mself\u001b[0m\u001b[0;34m.\u001b[0m\u001b[0msigmoid_prime\u001b[0m\u001b[0;34m(\u001b[0m\u001b[0moutput\u001b[0m\u001b[0;34m)\u001b[0m\u001b[0;34m\u001b[0m\u001b[0m\n\u001b[1;32m     31\u001b[0m         \u001b[0mprint\u001b[0m\u001b[0;34m(\u001b[0m\u001b[0mnp\u001b[0m\u001b[0;34m.\u001b[0m\u001b[0mshape\u001b[0m\u001b[0;34m(\u001b[0m\u001b[0mself\u001b[0m\u001b[0;34m.\u001b[0m\u001b[0mdelta\u001b[0m\u001b[0;34m)\u001b[0m\u001b[0;34m)\u001b[0m\u001b[0;34m\u001b[0m\u001b[0m\n\u001b[0;32m---> 32\u001b[0;31m         \u001b[0mself\u001b[0m\u001b[0;34m.\u001b[0m\u001b[0mzSquareError\u001b[0m \u001b[0;34m=\u001b[0m \u001b[0mnp\u001b[0m\u001b[0;34m.\u001b[0m\u001b[0mdot\u001b[0m\u001b[0;34m(\u001b[0m\u001b[0mself\u001b[0m\u001b[0;34m.\u001b[0m\u001b[0mdelta\u001b[0m\u001b[0;34m,\u001b[0m \u001b[0mself\u001b[0m\u001b[0;34m.\u001b[0m\u001b[0mhoW\u001b[0m\u001b[0;34m.\u001b[0m\u001b[0mT\u001b[0m\u001b[0;34m)\u001b[0m\u001b[0;34m\u001b[0m\u001b[0m\n\u001b[0m\u001b[1;32m     33\u001b[0m         \u001b[0mself\u001b[0m\u001b[0;34m.\u001b[0m\u001b[0mdeltaZSquare\u001b[0m \u001b[0;34m=\u001b[0m \u001b[0mself\u001b[0m\u001b[0;34m.\u001b[0m\u001b[0mzSquareError\u001b[0m\u001b[0;34m*\u001b[0m\u001b[0mself\u001b[0m\u001b[0;34m.\u001b[0m\u001b[0msigmoid_prime\u001b[0m\u001b[0;34m(\u001b[0m\u001b[0mself\u001b[0m\u001b[0;34m.\u001b[0m\u001b[0mz2\u001b[0m\u001b[0;34m)\u001b[0m\u001b[0;34m\u001b[0m\u001b[0m\n\u001b[1;32m     34\u001b[0m         \u001b[0mself\u001b[0m\u001b[0;34m.\u001b[0m\u001b[0mihW\u001b[0m \u001b[0;34m+=\u001b[0m \u001b[0mx\u001b[0m\u001b[0;34m.\u001b[0m\u001b[0mT\u001b[0m\u001b[0;34m.\u001b[0m\u001b[0mdot\u001b[0m\u001b[0;34m(\u001b[0m\u001b[0mself\u001b[0m\u001b[0;34m.\u001b[0m\u001b[0mdeltaZSquare\u001b[0m\u001b[0;34m)\u001b[0m\u001b[0;34m*\u001b[0m\u001b[0mlr\u001b[0m\u001b[0;34m\u001b[0m\u001b[0m\n",
      "\u001b[0;31mValueError\u001b[0m: shapes (50000,) and (10,15) not aligned: 50000 (dim 0) != 10 (dim 0)"
     ]
    }
   ],
   "source": [
    "yhat = []\n",
    "\n",
    "for i in range(0, ((train_x).shape[0])):\n",
    "    x = train_x[i]\n",
    "    NeuralNet = nn()\n",
    "    output = NeuralNet.forwardprop(train_x)\n",
    "    #output = NeuralNet.forwardprop(x)\n",
    "    yhat = np.append(yhat,guess(output))\n",
    "    y = np.append(y, train_y[i])\n",
    "    \n",
    "    yProb = toProbs(train_y[i])\n",
    "    difference = train_y-yhat\n",
    "    print(difference)\n",
    "    #difference = yProb - output\n",
    "    NeuralNet.backprop(difference, yhat, train_x)\n",
    "    #NeuralNet.backprop(difference, output, x)\n",
    "    print(i)\n",
    "    "
   ]
  },
  {
   "cell_type": "code",
   "execution_count": null,
   "metadata": {},
   "outputs": [],
   "source": []
  }
 ],
 "metadata": {
  "kernelspec": {
   "display_name": "Python 3",
   "language": "python",
   "name": "python3"
  },
  "language_info": {
   "codemirror_mode": {
    "name": "ipython",
    "version": 3
   },
   "file_extension": ".py",
   "mimetype": "text/x-python",
   "name": "python",
   "nbconvert_exporter": "python",
   "pygments_lexer": "ipython3",
   "version": "3.6.5"
  }
 },
 "nbformat": 4,
 "nbformat_minor": 2
}
