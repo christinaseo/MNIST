{
 "cells": [
  {
   "cell_type": "markdown",
   "metadata": {},
   "source": [
    "# Using the MNIST Dataset to recognize digits"
   ]
  },
  {
   "cell_type": "code",
   "execution_count": 5,
   "metadata": {},
   "outputs": [],
   "source": [
    "import math\n",
    "import numpy as np\n",
    "import matplotlib.cm as cm\n",
    "import matplotlib.pyplot as plt\n",
    "import gzip\n",
    "import pickle"
   ]
  },
  {
   "cell_type": "code",
   "execution_count": 6,
   "metadata": {},
   "outputs": [],
   "source": [
    "def toProbs(i):\n",
    "    probabilities = np.zeros((10,1))\n",
    "    probabilities[i] = 1\n",
    "    return probabilities"
   ]
  },
  {
   "cell_type": "code",
   "execution_count": 7,
   "metadata": {},
   "outputs": [
    {
     "data": {
      "image/png": "[encoded data removed]",
      "text/plain": [
       "<Figure size 432x288 with 1 Axes>"
      ]
     },
     "metadata": {},
     "output_type": "display_data"
    }
   ],
   "source": [
    "with gzip.open('mnist.pkl.gz', 'rb') as f:\n",
    "    train_set, valid_set, test_set = pickle.load(f, encoding='iso-8859-1')\n",
    "\n",
    "train_x, train_y = train_set\n",
    "\n",
    "test_x, test_y = test_set\n",
    "\n",
    "#print(np.shape(train_y))\n",
    "\n",
    "np.reshape(train_y,(50000,1))\n",
    "\n",
    "#print(np.shape(train_y))\n",
    "\n",
    "test_y = []\n",
    "\n",
    "for x in train_y:\n",
    "    test_y = np.append(test_y, toProbs(x))\n",
    "    \n",
    "#print(np.shape(test_y))\n",
    "test_y = np.reshape(test_y, (50000,10))\n",
    "#print(np.shape(test_y))\n",
    "\n",
    "\n",
    "\n",
    "plt.imshow(train_x[0].reshape((28, 28)), cmap=cm.Greys_r)\n",
    "plt.show()\n"
   ]
  },
  {
   "cell_type": "code",
   "execution_count": 81,
   "metadata": {},
   "outputs": [],
   "source": [
    "#input array\n",
    "x = []\n",
    "\n",
    "#expected output\n",
    "y = []\n",
    "\n",
    "#Learning rate\n",
    "lr = 0.001"
   ]
  },
  {
   "cell_type": "code",
   "execution_count": 116,
   "metadata": {},
   "outputs": [],
   "source": [
    "#create a neural network class\n",
    "class nn(object):\n",
    "    def __init__ (self):\n",
    "        self.inSize = train_x.shape[1]\n",
    "        self.hiddenSize = 256\n",
    "        self.outSize = 10\n",
    "            \n",
    "        #randomly initialize the weights\n",
    "        self.ihW = np.random.standard_normal((self.inSize, self.hiddenSize))\n",
    "        #np.reshape(self.ihW,(1,self.inSize*self.hiddenSize))\n",
    "        \n",
    "        #self.ihW = np.random.random_sample(self.inSize*self.hiddenSize)\n",
    "        #self.ihW[::2] *= -1\n",
    "        #self.ihW = np.reshape(self.ihW,(self.inSize,self.hiddenSize))\n",
    "        #print(self.ihW)\n",
    "                \n",
    "        self.hBias = np.random.rand(1,self.hiddenSize)\n",
    "        self.hBias[::2] *= 1\n",
    "        \n",
    "        self.hoW = np.random.standard_normal((self.hiddenSize, self.outSize))\n",
    "        \n",
    "        #self.hoW = np.random.random_sample(self.hiddenSize*self.outSize)\n",
    "        #self.hoW[::2] *= -1\n",
    "        #self.hoW = np.reshape(self.hoW,(self.hiddenSize,self.outSize))\n",
    "        \n",
    "        self.oBias = np.random.rand(1,self.outSize)\n",
    "        self.oBias[::2] *= -1\n",
    "        \n",
    "    def forwardprop(self, inp):\n",
    "        self.zt = np.dot(inp, self.ihW)\n",
    "        #print(\"zt\")\n",
    "        #print(self.zt)\n",
    "        self.z = self.zt + self.hBias\n",
    "        #print(\"z\")\n",
    "        #print((self.z))\n",
    "        self.z2 = self.sigmoid(self.z)\n",
    "        #print(\"z2\")\n",
    "        #print((self.z2))\n",
    "        #print(\"hoW\")\n",
    "        #print(self.hoW)\n",
    "        # for some reason all the rows become the same\n",
    "        self.z3t = np.dot(self.z2, self.hoW)\n",
    "        #print(\"z3t\")\n",
    "        #print((self.z3t))\n",
    "        self.z3 = self.z3t + self.oBias\n",
    "        #print(\"z3\")\n",
    "        #print((self.z3))\n",
    "        final = self.sigmoid(self.z3)\n",
    "        #print(\"final\")\n",
    "        #print((final))\n",
    "        return final\n",
    "    \n",
    "    def sigmoid(self,z):\n",
    "        return (1 / (1 + np.exp(-z)))\n",
    "    \n",
    "    def sigmoid_prime(self,z):\n",
    "        return z*(1-z)\n",
    "    \n",
    "    def backprop(self, diff, output, x):\n",
    "        #print(output)\n",
    "        self.delta = diff*self.sigmoid_prime(output)\n",
    "        #print(np.shape(self.delta))\n",
    "        #print(np.shape(self.sigmoid_prime(output)))\n",
    "        #print(np.shape(diff))\n",
    "        #print(np.shape(self.sigmoid_prime(output)))\n",
    "        self.zSquareError = np.dot(self.delta, self.hoW.T)\n",
    "        self.deltaZSquare = self.zSquareError*self.sigmoid_prime(self.z2)\n",
    "        self.ihW -= x.T.dot(self.deltaZSquare)*lr\n",
    "        self.hoW -= self.z2.T.dot(self.delta)*lr\n",
    "        self.hBias -= np.sum(self.deltaZSquare, axis = 0, keepdims = True)*lr\n",
    "        self.oBias -= np.sum(self.delta, axis = 0, keepdims = True)*lr\n",
    "        \n",
    "        \n",
    "    def cost(self,yhat,y):\n",
    "        temp = y*np.log(yhat)+(1-y)*np.log(1-yhat)\n",
    "        j = (-(1/np.size(y))*np.sum(temp))\n",
    "        print(j)\n",
    "        return j\n"
   ]
  },
  {
   "cell_type": "code",
   "execution_count": 117,
   "metadata": {},
   "outputs": [],
   "source": [
    "def guess(output):\n",
    "    return np.argmax(output)"
   ]
  },
  {
   "cell_type": "code",
   "execution_count": 120,
   "metadata": {},
   "outputs": [],
   "source": [
    "yProb = []\n",
    "\n",
    "for x in train_y:\n",
    "    yProb = np.append(yProb,toProbs(x))"
   ]
  },
  {
   "cell_type": "code",
   "execution_count": 118,
   "metadata": {
    "scrolled": true
   },
   "outputs": [
    {
     "name": "stderr",
     "output_type": "stream",
     "text": [
      "/Library/Frameworks/Python.framework/Versions/3.6/lib/python3.6/site-packages/ipykernel_launcher.py:75: RuntimeWarning: divide by zero encountered in log\n",
      "/Library/Frameworks/Python.framework/Versions/3.6/lib/python3.6/site-packages/ipykernel_launcher.py:75: RuntimeWarning: invalid value encountered in multiply\n"
     ]
    },
    {
     "name": "stdout",
     "output_type": "stream",
     "text": [
      "nan\n",
      "0\n",
      "inf\n"
     ]
    },
    {
     "name": "stderr",
     "output_type": "stream",
     "text": [
      "/Library/Frameworks/Python.framework/Versions/3.6/lib/python3.6/site-packages/ipykernel_launcher.py:61: RuntimeWarning: invalid value encountered in multiply\n"
     ]
    },
    {
     "name": "stdout",
     "output_type": "stream",
     "text": [
      "1\n",
      "inf\n",
      "2\n",
      "inf\n",
      "3\n"
     ]
    },
    {
     "ename": "KeyboardInterrupt",
     "evalue": "",
     "output_type": "error",
     "traceback": [
      "\u001b[0;31m---------------------------------------------------------------------------\u001b[0m",
      "\u001b[0;31mKeyboardInterrupt\u001b[0m                         Traceback (most recent call last)",
      "\u001b[0;32m<ipython-input-118-5de704886821>\u001b[0m in \u001b[0;36m<module>\u001b[0;34m()\u001b[0m\n\u001b[1;32m      9\u001b[0m \u001b[0;32mfor\u001b[0m \u001b[0mi\u001b[0m \u001b[0;32min\u001b[0m \u001b[0mrange\u001b[0m\u001b[0;34m(\u001b[0m\u001b[0;36m0\u001b[0m\u001b[0;34m,\u001b[0m\u001b[0;36m1000\u001b[0m\u001b[0;34m)\u001b[0m\u001b[0;34m:\u001b[0m\u001b[0;34m\u001b[0m\u001b[0m\n\u001b[1;32m     10\u001b[0m     \u001b[0;31m#outputTest = []\u001b[0m\u001b[0;34m\u001b[0m\u001b[0;34m\u001b[0m\u001b[0m\n\u001b[0;32m---> 11\u001b[0;31m     \u001b[0mNeuralNet\u001b[0m \u001b[0;34m=\u001b[0m \u001b[0mnn\u001b[0m\u001b[0;34m(\u001b[0m\u001b[0;34m)\u001b[0m\u001b[0;34m\u001b[0m\u001b[0m\n\u001b[0m\u001b[1;32m     12\u001b[0m     \u001b[0moutput\u001b[0m \u001b[0;34m=\u001b[0m \u001b[0mNeuralNet\u001b[0m\u001b[0;34m.\u001b[0m\u001b[0mforwardprop\u001b[0m\u001b[0;34m(\u001b[0m\u001b[0mtrain_x\u001b[0m\u001b[0;34m)\u001b[0m\u001b[0;34m\u001b[0m\u001b[0m\n\u001b[1;32m     13\u001b[0m     \u001b[0;31m#for z in range (0, ((train_x).shape[0])):\u001b[0m\u001b[0;34m\u001b[0m\u001b[0;34m\u001b[0m\u001b[0m\n",
      "\u001b[0;32m<ipython-input-116-876657e7a5d5>\u001b[0m in \u001b[0;36m__init__\u001b[0;34m(self)\u001b[0m\n\u001b[1;32m      7\u001b[0m \u001b[0;34m\u001b[0m\u001b[0m\n\u001b[1;32m      8\u001b[0m         \u001b[0;31m#randomly initialize the weights\u001b[0m\u001b[0;34m\u001b[0m\u001b[0;34m\u001b[0m\u001b[0m\n\u001b[0;32m----> 9\u001b[0;31m         \u001b[0mself\u001b[0m\u001b[0;34m.\u001b[0m\u001b[0mihW\u001b[0m \u001b[0;34m=\u001b[0m \u001b[0mnp\u001b[0m\u001b[0;34m.\u001b[0m\u001b[0mrandom\u001b[0m\u001b[0;34m.\u001b[0m\u001b[0mstandard_normal\u001b[0m\u001b[0;34m(\u001b[0m\u001b[0;34m(\u001b[0m\u001b[0mself\u001b[0m\u001b[0;34m.\u001b[0m\u001b[0minSize\u001b[0m\u001b[0;34m,\u001b[0m \u001b[0mself\u001b[0m\u001b[0;34m.\u001b[0m\u001b[0mhiddenSize\u001b[0m\u001b[0;34m)\u001b[0m\u001b[0;34m)\u001b[0m\u001b[0;34m\u001b[0m\u001b[0m\n\u001b[0m\u001b[1;32m     10\u001b[0m         \u001b[0;31m#np.reshape(self.ihW,(1,self.inSize*self.hiddenSize))\u001b[0m\u001b[0;34m\u001b[0m\u001b[0;34m\u001b[0m\u001b[0m\n\u001b[1;32m     11\u001b[0m \u001b[0;34m\u001b[0m\u001b[0m\n",
      "\u001b[0;31mKeyboardInterrupt\u001b[0m: "
     ]
    }
   ],
   "source": [
    "yhat = []\n",
    "\n",
    "for i in range(0,1000):\n",
    "    #outputTest = []\n",
    "    NeuralNet = nn()\n",
    "    output = NeuralNet.forwardprop(train_x)\n",
    "    #for z in range (0, ((train_x).shape[0])):\n",
    "    #    outputTest = NeuralNet.forwardprop(train_x[z])\n",
    "    \n",
    "    #print(\"output:\")\n",
    "    #print(output)\n",
    "    #print(\"test output:\")\n",
    "    #print(outputTest)\n",
    "    #print(np.shape(output))\n",
    "    \n",
    "    #denominator = np.sum(output,axis = 1)\n",
    "    #denominator = np.reshape(denominator,(50000,1))\n",
    "    #output = output/denominator\n",
    "     \n",
    "    #print(np.shape(output))\n",
    "    #print(output)\n",
    "    #print(np.shape(output))\n",
    "    yhat = output.max(axis=1)\n",
    "    #print(np.shape(yhat))\n",
    "    #y = np.append(y, train_y[i])\n",
    "    #yProb = toProbs(train_y[i])\n",
    "    #difference = train_y-yhat\n",
    "    #difference = test_y - output\n",
    "    #print(np.sum(np.abs(difference)))\n",
    "    difference = NeuralNet.cost(output,yProb)\n",
    "    #difference = yProb - output\n",
    "    NeuralNet.backprop(difference, output, train_x)\n",
    "    print(i)\n",
    "    "
   ]
  },
  {
   "cell_type": "code",
   "execution_count": 70,
   "metadata": {},
   "outputs": [
    {
     "name": "stdout",
     "output_type": "stream",
     "text": [
      "[[4.09808085e-09 3.74470098e-03 3.63456555e-01 7.16855698e-06\n",
      "  1.93987289e-08 9.99641777e-01 8.06619097e-06 9.99999953e-01\n",
      "  8.16172883e-06 8.60538879e-01]]\n",
      "Guess is: \n",
      "7\n",
      "Actual is: \n",
      "5\n"
     ]
    }
   ],
   "source": [
    "#try to predict\n",
    "test = NeuralNet.forwardprop(train_x[0])\n",
    "print(test)\n",
    "yhatTest = guess(test)\n",
    "print(\"Guess is: \")\n",
    "print(yhatTest)\n",
    "print(\"Actual is: \")\n",
    "print(train_y[0])\n",
    "\n",
    "\n",
    "test = []\n",
    "for x in range(0,10000):\n",
    "    predictTest = guess(NeuralNet.forwardprop(test_x[x]))\n",
    "    test = np.append(test,predictTest)\n",
    "    "
   ]
  },
  {
   "cell_type": "code",
   "execution_count": 83,
   "metadata": {},
   "outputs": [
    {
     "name": "stdout",
     "output_type": "stream",
     "text": [
      "[0. 0. 2. ... 0. 0. 6.]\n",
      "[5. 5. 5. ... 5. 7. 5.]\n"
     ]
    }
   ],
   "source": [
    "prediction = []\n",
    "\n",
    "#check accuracy:\n",
    "for row in output:\n",
    "    prediction = np.append(prediction,guess(row))\n",
    "\n",
    "print(prediction)\n",
    "print(test)"
   ]
  },
  {
   "cell_type": "code",
   "execution_count": 84,
   "metadata": {},
   "outputs": [],
   "source": [
    "accuracy = 0\n",
    "count = 0\n",
    "count7= 0\n",
    "\n",
    "for x in range(0,np.size(prediction)):\n",
    "    if prediction[x] == 7:\n",
    "        count7+=1\n",
    "    if prediction[x] == train_y[x]:\n",
    "        accuracy += 1\n",
    "    else:\n",
    "        continue\n",
    "        \n",
    "for x in range(0,np.size(test)):\n",
    "    if test[x] == train_y[x]:\n",
    "        count +=1\n",
    "\n",
    "accuracy = accuracy / 50000"
   ]
  },
  {
   "cell_type": "code",
   "execution_count": 86,
   "metadata": {},
   "outputs": [
    {
     "name": "stdout",
     "output_type": "stream",
     "text": [
      "0.09842\n",
      "0.0933\n",
      "15\n"
     ]
    }
   ],
   "source": [
    "print (accuracy)\n",
    "print(count/10000)\n",
    "print(count7)"
   ]
  }
 ],
 "metadata": {
  "kernelspec": {
   "display_name": "Python 3",
   "language": "python",
   "name": "python3"
  },
  "language_info": {
   "codemirror_mode": {
    "name": "ipython",
    "version": 3
   },
   "file_extension": ".py",
   "mimetype": "text/x-python",
   "name": "python",
   "nbconvert_exporter": "python",
   "pygments_lexer": "ipython3",
   "version": "3.6.5"
  }
 },
 "nbformat": 4,
 "nbformat_minor": 2
}
